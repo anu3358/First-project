{
  "cells": [
    {
      "cell_type": "markdown",
      "metadata": {
        "id": "view-in-github",
        "colab_type": "text"
      },
      "source": [
        "<a href=\"https://colab.research.google.com/github/anu3358/First-project/blob/main/Copy_of_Welcome_to_Colab.ipynb\" target=\"_parent\"><img src=\"https://colab.research.google.com/assets/colab-badge.svg\" alt=\"Open In Colab\"/></a>"
      ]
    },
    {
      "cell_type": "markdown",
      "source": [],
      "metadata": {
        "id": "Q8lxN7GEJ17d"
      }
    },
    {
      "cell_type": "markdown",
      "source": [
        "-----------------------------------------------------------------------------------------------------------------------------\n",
        "Python Assignment\n",
        "-----------------------------------------------------------------------------------------------------------------------------\n",
        "Q1. L is a list defined as L= [11, 12, 13, 14].\n",
        "(i) WAP to add 50 and 60 to L.\n",
        "(ii) WAP to remove 11 and 13from L.\n",
        "(iii) WAP to sort L in ascending order.\n",
        "(iv) WAP to sort L in descending order.\n",
        "(v) WAP to search for 13 in L.\n",
        "(vi) WAP to count the number of elements present in L.\n",
        "(vii) WAP to sum all the elements in L.\n",
        "(viii) WAP to sum all ODD numbers in L.\n",
        "(ix) WAP to sum all EVEN numbers in L.\n",
        "(x) WAP to sum all PRIME numbers in L.\n",
        "(xi) WAP to clear all the elements in L.\n",
        "(xii) WAP to delete L.\n",
        "Q2. D is a dictionary defined as D= {1:5.6, 2:7.8, 3:6.6, 4:8.7, 5:7.7}.\n",
        "(i) WAP to add new entry in D; key=8 and value is 8.8\n",
        "(ii) WAP to remove key=2.\n",
        "(iii) WAP to check weather 6 key is present in D.\n",
        "(iv) WAP to count the number of elements present in D.\n",
        "(v) WAP to add all the values present D.\n",
        "(vi) WAP to update the value of 3 to 7.1.\n",
        "(vii) WAP to clear the dictionary.\n",
        "Q3. S1 is a set defined as S1= [10, 20, 30, 40, 50, 60].\n",
        " S2 is a set defined as S2= [40, 50, 60, 70, 80, 90].\n",
        "(i) WAP to add 55 and 66 in Set S1.\n",
        "(ii) WAP to remove 10 and 30 from Set S1.\n",
        "(iii) WAP to check whether 40 is present in S1.\n",
        "(iv) WAP to find the union between S1 and S2.\n",
        "(v) WAP to find the intersection between S1 and S2.\n",
        "(vi) WAP to find the S1 - S2.\n",
        "Q4. Write the following program.\n",
        "(i) WAP to print 100 random strings whose length between 6 and 8.\n",
        "(ii) WAP to print all prime numbers between 600 and 800.\n",
        "(iii) WAP to print all numbers between 100 and 1000 that are divisible by 7 and 9.\n",
        "Q5. WAP to create two lists of 10 random numbers between 10 and 30; Find\n",
        "(i) Common numbers in the two lists\n",
        "(ii) Unique numbers in both the list\n",
        "(iii) Minimum in both the list\n",
        "(iv) Maximum in both the list\n",
        "(v) Sum of both the lists\n",
        "Q6. WAP to create a list of 100 random numbers between 100 and 900. Count and print the:\n",
        "(i) All odd numbers\n",
        "(ii) All even numbers\n",
        "(iii) All prime numbers\n",
        "Q7. D is a dictionary defined as D={1:\"One\",2:\"Two\",3:\"Three\",4:\"Four\", 5:\"Five\"}.\n",
        " WAP to read all the keys and values from dictionary and write to the file in the given below format.\n",
        "Key1, Value1\n",
        "Key2, Value2\n",
        "Key3, Value3\n",
        "Q8. L is a list defined as L={\"One\",\"Two\",\"Three\",\"Four\",\"Five\"}.\n",
        " WAP to count the length of reach element from a list and write to the file in the given below format:\n",
        "One, 3\n",
        "Two, 3\n",
        "Four, 4\n",
        "Q9. Write to the file 100 random strings whose length between 10 and 15.\n",
        "Q10. Write to the file all prime numbers between 600 and 800.\n",
        "Q11. WAP to calculate the time taken by a program.\n",
        "Q12. WAP to sort following number of elements in a list, calculate time taken and plot the graph.\n",
        "Number of elements in list Time Taken\n",
        "5k T1\n",
        "10k T2\n",
        "15k T3\n",
        "20k T4\n",
        "25k T5\n",
        "Q13. WAP to create a dictionary of student marks in five subjects and you have to find the student\n",
        " having maximum and minimum average marks."
      ],
      "metadata": {
        "id": "CtzTq-BH1AfC"
      }
    },
    {
      "cell_type": "code",
      "source": [
        "#Q1...............\n",
        "L = [11, 12, 13, 14]\n",
        "\n",
        "# (i) Add 50 and 60\n",
        "L.append(50)\n",
        "L.append(60)\n",
        "print(\"After append:\", L)\n",
        "\n",
        "# (ii) Remove 11 and 13\n",
        "L.remove(11)\n",
        "L.remove(13)\n",
        "print(\"After removal:\", L)\n",
        "\n",
        "# (iii) Sort in ascending\n",
        "L.sort()\n",
        "print(\"Ascending:\", L)\n",
        "\n",
        "# (iv) Sort in descending\n",
        "L.sort(reverse=True)\n",
        "print(\"Descending:\", L)\n",
        "\n",
        "# (v) Search 13\n",
        "print(\"13 in L?\", 13 in L)\n",
        "\n",
        "# (vi) Count elements\n",
        "print(\"Length of L:\", len(L))\n",
        "\n",
        "# (vii) Sum all elements\n",
        "print(\"Sum:\", sum(L))\n",
        "\n",
        "# (viii) Sum of ODD numbers\n",
        "print(\"Sum Odd:\", sum(x for x in L if x % 2 != 0))\n",
        "\n",
        "# (ix) Sum of EVEN numbers\n",
        "print(\"Sum Even:\", sum(x for x in L if x % 2 == 0))\n",
        "\n",
        "# (x) Sum of PRIME numbers\n",
        "def is_prime(n):\n",
        "    if n < 2: return False\n",
        "    for i in range(2, int(n**0.5)+1):\n",
        "        if n % i == 0: return False\n",
        "    return True\n",
        "\n",
        "print(\"Sum Prime:\", sum(x for x in L if is_prime(x)))\n",
        "\n",
        "# (xi) Clear list\n",
        "L.clear()\n",
        "print(\"After clear:\", L)\n",
        "\n",
        "# (xii) Delete list\n",
        "del L\n",
        "# print(L) # Uncommenting this will raise error"
      ],
      "metadata": {
        "colab": {
          "base_uri": "https://localhost:8080/"
        },
        "id": "yyoTKRcL1cXf",
        "outputId": "24650918-029f-4795-f0cf-5f8fa81ea3f3"
      },
      "execution_count": null,
      "outputs": [
        {
          "output_type": "stream",
          "name": "stdout",
          "text": [
            "After append: [11, 12, 13, 14, 50, 60]\n",
            "After removal: [12, 14, 50, 60]\n",
            "Ascending: [12, 14, 50, 60]\n",
            "Descending: [60, 50, 14, 12]\n",
            "13 in L? False\n",
            "Length of L: 4\n",
            "Sum: 136\n",
            "Sum Odd: 0\n",
            "Sum Even: 136\n",
            "Sum Prime: 0\n",
            "After clear: []\n"
          ]
        }
      ]
    },
    {
      "cell_type": "code",
      "source": [
        "#Q2......\n",
        "D = {1:5.6, 2:7.8, 3:6.6, 4:8.7, 5:7.7}\n",
        "\n",
        "# (i) Add new entry key=8, value=8.8\n",
        "D[8] = 8.8\n",
        "\n",
        "# (ii) Remove key=2\n",
        "D.pop(2, None)\n",
        "\n",
        "# (iii) Check key=6\n",
        "print(\"Is key 6 in D?\", 6 in D)\n",
        "\n",
        "# (iv) Count elements\n",
        "print(\"Number of elements:\", len(D))\n",
        "\n",
        "# (v) Sum all values\n",
        "print(\"Sum of values:\", sum(D.values()))\n",
        "\n",
        "# (vi) Update value of 3 to 7.1\n",
        "D[3] = 7.1\n",
        "\n",
        "# (vii) Clear dictionary\n",
        "D.clear()\n",
        "print(\"Dictionary after clearing:\", D)\n",
        "\n"
      ],
      "metadata": {
        "colab": {
          "base_uri": "https://localhost:8080/"
        },
        "id": "VnyrtIaR2h8L",
        "outputId": "8036d5f7-414b-4c41-e663-5261f2c4d28b"
      },
      "execution_count": null,
      "outputs": [
        {
          "output_type": "stream",
          "name": "stdout",
          "text": [
            "Is key 6 in D? False\n",
            "Number of elements: 5\n",
            "Sum of values: 37.4\n",
            "Dictionary after clearing: {}\n"
          ]
        }
      ]
    },
    {
      "cell_type": "code",
      "source": [
        "#Q3..............\n",
        "S1 = {10, 20, 30, 40, 50, 60}\n",
        "S2 = {40, 50, 60, 70, 80, 90}\n",
        "\n",
        "# (i) Add 55, 66\n",
        "S1.update([55, 66])\n",
        "\n",
        "# (ii) Remove 10, 30\n",
        "S1.discard(10)\n",
        "S1.discard(30)\n",
        "\n",
        "# (iii) Check 40\n",
        "print(\"40 in S1?\", 40 in S1)\n",
        "\n",
        "# (iv) Union\n",
        "print(\"Union:\", S1.union(S2))\n",
        "\n",
        "# (v) Intersection\n",
        "print(\"Intersection:\", S1.intersection(S2))\n",
        "\n",
        "# (vi) S1 - S2\n",
        "print(\"S1 - S2:\", S1.difference(S2))\n"
      ],
      "metadata": {
        "colab": {
          "base_uri": "https://localhost:8080/"
        },
        "id": "6Pii-SJG28tZ",
        "outputId": "7bb819e0-37ef-457c-9578-26350a7f31ff"
      },
      "execution_count": null,
      "outputs": [
        {
          "output_type": "stream",
          "name": "stdout",
          "text": [
            "40 in S1? True\n",
            "Union: {66, 70, 40, 80, 50, 20, 55, 90, 60}\n",
            "Intersection: {40, 50, 60}\n",
            "S1 - S2: {66, 20, 55}\n"
          ]
        }
      ]
    },
    {
      "cell_type": "code",
      "source": [
        "#Q4...........................\n",
        "import random\n",
        "import string\n",
        "\n",
        "# (i) 100 random strings of length 6 to 8\n",
        "for _ in range(100):\n",
        "    print(''.join(random.choices(string.ascii_letters, k=random.randint(6, 8))))\n",
        "\n",
        "# (ii) Prime numbers between 600–800\n",
        "for i in range(600, 801):\n",
        "    if is_prime(i): print(i)\n",
        "\n",
        "# (iii) Numbers divisible by both 7 and 9 (i.e., by 63)\n",
        "for i in range(100, 1001):\n",
        "    if i % 63 == 0:\n",
        "        print(i)\n"
      ],
      "metadata": {
        "colab": {
          "base_uri": "https://localhost:8080/"
        },
        "id": "cWuCZTVb3Hbo",
        "outputId": "8bb8ef1e-1538-4c5a-cb79-875dcc0e66a0"
      },
      "execution_count": null,
      "outputs": [
        {
          "output_type": "stream",
          "name": "stdout",
          "text": [
            "HzEACywZ\n",
            "YhFLvYrj\n",
            "niFvTYno\n",
            "fKMBPvYI\n",
            "ZvAVwAFV\n",
            "vyaaATpO\n",
            "ctfxRcM\n",
            "ESefaS\n",
            "CCwogP\n",
            "ZdWbev\n",
            "KUbFFXT\n",
            "QbStWpnU\n",
            "tsXTJM\n",
            "qUliUm\n",
            "LbSnVSVb\n",
            "aQNWmwih\n",
            "pFEczyoV\n",
            "eSfcBYBf\n",
            "eLjPwEB\n",
            "eZQRvn\n",
            "xnufOI\n",
            "wGraRG\n",
            "GYtRcY\n",
            "wsQthg\n",
            "naZjCbO\n",
            "sMDnSmNC\n",
            "AOMeDBZ\n",
            "TsIkVk\n",
            "EDkQzqUF\n",
            "UCawSU\n",
            "fvPXyflL\n",
            "oDgymIyD\n",
            "jspnvV\n",
            "vRgLAq\n",
            "PdzazmHy\n",
            "kubMsW\n",
            "ONQaPAX\n",
            "vtdvFW\n",
            "qaIfHCaM\n",
            "TauKGPnA\n",
            "GqdRwZ\n",
            "nXvCrHI\n",
            "OEEtjxty\n",
            "gGnvYjd\n",
            "yzxHISG\n",
            "pddTfkNK\n",
            "ozVjYKm\n",
            "LeFPvMCf\n",
            "kNUyKc\n",
            "DRMbzw\n",
            "PAfADC\n",
            "CUIuZcmb\n",
            "FOKFVjy\n",
            "BuZKZtu\n",
            "eIEwvq\n",
            "DWDiCdu\n",
            "Nqdeupk\n",
            "wmwDNssA\n",
            "wteKbQrx\n",
            "aGMpDJ\n",
            "LqjDMK\n",
            "NpjgegvF\n",
            "cPrEbgJs\n",
            "njuunRox\n",
            "rrypNXu\n",
            "waasog\n",
            "rdjdhE\n",
            "bliZHJ\n",
            "fyhaIVn\n",
            "XrKvHPk\n",
            "cOpWLYK\n",
            "BVzwEwz\n",
            "OkoZCUkM\n",
            "leoeDHpq\n",
            "zwClJu\n",
            "afRjNU\n",
            "usDfKk\n",
            "VtGgtid\n",
            "QxFXgmU\n",
            "fZcdDnJ\n",
            "spcdVP\n",
            "MauKuV\n",
            "oMqxBV\n",
            "EVzqvhG\n",
            "nNafuROs\n",
            "vlKDnP\n",
            "MssIePk\n",
            "pmMIuU\n",
            "nHRdJohf\n",
            "CUoyDE\n",
            "VVPzUqbW\n",
            "DfhONsS\n",
            "DwVxWOhe\n",
            "CwwImZaY\n",
            "mOtWjnE\n",
            "LovBgdq\n",
            "iaCJYVX\n",
            "yXhkWn\n",
            "mhfseN\n",
            "CcNsau\n",
            "601\n",
            "607\n",
            "613\n",
            "617\n",
            "619\n",
            "631\n",
            "641\n",
            "643\n",
            "647\n",
            "653\n",
            "659\n",
            "661\n",
            "673\n",
            "677\n",
            "683\n",
            "691\n",
            "701\n",
            "709\n",
            "719\n",
            "727\n",
            "733\n",
            "739\n",
            "743\n",
            "751\n",
            "757\n",
            "761\n",
            "769\n",
            "773\n",
            "787\n",
            "797\n",
            "126\n",
            "189\n",
            "252\n",
            "315\n",
            "378\n",
            "441\n",
            "504\n",
            "567\n",
            "630\n",
            "693\n",
            "756\n",
            "819\n",
            "882\n",
            "945\n"
          ]
        }
      ]
    },
    {
      "cell_type": "code",
      "source": [
        "#Q5...........................\n",
        "\n",
        "list1 = [random.randint(10, 30) for _ in range(10)]\n",
        "list2 = [random.randint(10, 30) for _ in range(10)]\n",
        "\n",
        "# (i) Common numbers\n",
        "print(\"Common:\", set(list1).intersection(list2))\n",
        "\n",
        "# (ii) Unique numbers\n",
        "print(\"Unique:\", set(list1).symmetric_difference(list2))\n",
        "\n",
        "# (iii) Minimum\n",
        "print(\"Min:\", min(list1), min(list2))\n",
        "\n",
        "# (iv) Maximum\n",
        "print(\"Max:\", max(list1), max(list2))\n",
        "\n",
        "# (v) Sum\n",
        "print(\"Sum:\", sum(list1), sum(list2))\n"
      ],
      "metadata": {
        "colab": {
          "base_uri": "https://localhost:8080/"
        },
        "id": "vbNZpWVV3X8F",
        "outputId": "e09cd80a-60ef-4cc5-b3a2-ca24252d7843"
      },
      "execution_count": null,
      "outputs": [
        {
          "output_type": "stream",
          "name": "stdout",
          "text": [
            "Common: {17, 29, 18, 13}\n",
            "Unique: {14, 15, 16, 21, 22, 25, 26, 27, 30}\n",
            "Min: 13 13\n",
            "Max: 29 30\n",
            "Sum: 189 222\n"
          ]
        }
      ]
    },
    {
      "cell_type": "code",
      "source": [
        "#Q6............\n",
        "nums = [random.randint(100, 900) for _ in range(100)]\n",
        "\n",
        "odds = [x for x in nums if x % 2 != 0]\n",
        "evens = [x for x in nums if x % 2 == 0]\n",
        "primes = [x for x in nums if is_prime(x)]\n",
        "\n",
        "print(\"Odd count:\", len(odds))\n",
        "print(\"Even count:\", len(evens))\n",
        "print(\"Prime count:\", len(primes))"
      ],
      "metadata": {
        "colab": {
          "base_uri": "https://localhost:8080/"
        },
        "id": "OCo4_xhq3ztE",
        "outputId": "0f77ce8f-e5b1-437c-d91a-d3e53d2fd3cd"
      },
      "execution_count": null,
      "outputs": [
        {
          "output_type": "stream",
          "name": "stdout",
          "text": [
            "Odd count: 53\n",
            "Even count: 47\n",
            "Prime count: 21\n"
          ]
        }
      ]
    },
    {
      "cell_type": "code",
      "source": [
        "#Q7....................\n",
        "D = {1:\"One\",2:\"Two\",3:\"Three\",4:\"Four\", 5:\"Five\"}\n",
        "\n",
        "with open(\"dict_output.txt\", \"w\") as f:\n",
        "    for k, v in D.items():\n",
        "        f.write(f\"{k}, {v}\\n\")"
      ],
      "metadata": {
        "id": "BSrFT98538cr"
      },
      "execution_count": null,
      "outputs": []
    },
    {
      "cell_type": "code",
      "source": [
        "#Q7............\n",
        "L = [\"One\",\"Two\",\"Three\",\"Four\",\"Five\"]\n",
        "\n",
        "with open(\"length_output.txt\", \"w\") as f:\n",
        "    for word in L:\n",
        "        f.write(f\"{word}, {len(word)}\\n\")"
      ],
      "metadata": {
        "id": "OvMaxkFj4fYX"
      },
      "execution_count": null,
      "outputs": []
    },
    {
      "cell_type": "code",
      "source": [
        "#Q8..............\n",
        "with open(\"random_strings.txt\", \"w\") as f:\n",
        "    for _ in range(100):\n",
        "        s = ''.join(random.choices(string.ascii_letters, k=random.randint(10, 15)))\n",
        "        f.write(s + \"\\n\")"
      ],
      "metadata": {
        "id": "ZEYAg9m04nKv"
      },
      "execution_count": null,
      "outputs": []
    },
    {
      "cell_type": "code",
      "source": [
        "#Q9.................\n",
        "with open(\"prime_600_800.txt\", \"w\") as f:\n",
        "    for i in range(600, 801):\n",
        "        if is_prime(i):\n",
        "            f.write(str(i) + \"\\n\")"
      ],
      "metadata": {
        "id": "NgPVRA3040Zl"
      },
      "execution_count": null,
      "outputs": []
    },
    {
      "cell_type": "code",
      "source": [
        "#Q10..............\n",
        "import time\n",
        "\n",
        "start = time.time()\n",
        "sum = 0\n",
        "for i in range(1, 1000000):\n",
        "    sum += i\n",
        "end = time.time()\n",
        "\n",
        "print(\"Time taken:\", end - start)\n"
      ],
      "metadata": {
        "colab": {
          "base_uri": "https://localhost:8080/"
        },
        "id": "8Ai-q_rg47vg",
        "outputId": "6fddec3f-9d09-422c-e490-b932644f699e"
      },
      "execution_count": null,
      "outputs": [
        {
          "output_type": "stream",
          "name": "stdout",
          "text": [
            "Time taken: 0.14520812034606934\n"
          ]
        }
      ]
    },
    {
      "cell_type": "code",
      "source": [
        "#Q11.......\n",
        "import matplotlib.pyplot as plt\n",
        "\n",
        "sizes = [5000, 10000, 15000, 20000, 25000]\n",
        "times = []\n",
        "\n",
        "for size in sizes:\n",
        "    lst = [random.randint(1, 10000) for _ in range(size)]\n",
        "    start = time.time()\n",
        "    lst.sort()\n",
        "    end = time.time()\n",
        "    times.append(end - start)\n",
        "\n",
        "for s, t in zip(sizes, times):\n",
        "    print(f\"{s}, {t:.5f}\")\n",
        "\n",
        "plt.plot(sizes, times, marker='o')\n",
        "plt.xlabel('Number of Elements')\n",
        "plt.ylabel('Time Taken (s)')\n",
        "plt.title('Sorting Time vs List Size')\n",
        "plt.grid(True)\n",
        "plt.show()\n",
        "\n"
      ],
      "metadata": {
        "colab": {
          "base_uri": "https://localhost:8080/",
          "height": 559
        },
        "id": "vn-RTCfH5DP2",
        "outputId": "a2831982-927a-43cb-ccf1-ef193e91973a"
      },
      "execution_count": null,
      "outputs": [
        {
          "output_type": "stream",
          "name": "stdout",
          "text": [
            "5000, 0.00093\n",
            "10000, 0.00232\n",
            "15000, 0.00331\n",
            "20000, 0.00457\n",
            "25000, 0.00624\n"
          ]
        },
        {
          "output_type": "display_data",
          "data": {
            "text/plain": [
              "<Figure size 640x480 with 1 Axes>"
            ],
            "image/png": "[encoded data removed]"
          },
          "metadata": {}
        }
      ]
    },
    {
      "cell_type": "code",
      "source": [
        "#Q12..........\n",
        "students = {\n",
        "    \"A\": [78, 67, 80, 75, 90],\n",
        "    \"B\": [88, 79, 85, 70, 69],\n",
        "    \"C\": [55, 60, 58, 65, 59]\n",
        "}\n",
        "\n",
        "avg_marks = {name: sum(marks)/len(marks) for name, marks in students.items()}\n",
        "max_student = max(avg_marks, key=avg_marks.get)\n",
        "min_student = min(avg_marks, key=avg_marks.get)\n",
        "\n",
        "print(\"Max Avg:\", max_student, avg_marks[max_student])\n",
        "print(\"Min Avg:\", min_student, avg_marks[min_student])\n"
      ],
      "metadata": {
        "colab": {
          "base_uri": "https://localhost:8080/",
          "height": 332
        },
        "id": "gIwxXPHL5QDh",
        "outputId": "dc3fc808-5f1c-4e13-de90-731c8c699ab3"
      },
      "execution_count": null,
      "outputs": [
        {
          "output_type": "error",
          "ename": "TypeError",
          "evalue": "'int' object is not callable",
          "traceback": [
            "\u001b[0;31m---------------------------------------------------------------------------\u001b[0m",
            "\u001b[0;31mTypeError\u001b[0m                                 Traceback (most recent call last)",
            "\u001b[0;32m<ipython-input-22-1778472203>\u001b[0m in \u001b[0;36m<cell line: 0>\u001b[0;34m()\u001b[0m\n\u001b[1;32m      6\u001b[0m }\n\u001b[1;32m      7\u001b[0m \u001b[0;34m\u001b[0m\u001b[0m\n\u001b[0;32m----> 8\u001b[0;31m \u001b[0mavg_marks\u001b[0m \u001b[0;34m=\u001b[0m \u001b[0;34m{\u001b[0m\u001b[0mname\u001b[0m\u001b[0;34m:\u001b[0m \u001b[0msum\u001b[0m\u001b[0;34m(\u001b[0m\u001b[0mmarks\u001b[0m\u001b[0;34m)\u001b[0m\u001b[0;34m/\u001b[0m\u001b[0mlen\u001b[0m\u001b[0;34m(\u001b[0m\u001b[0mmarks\u001b[0m\u001b[0;34m)\u001b[0m \u001b[0;32mfor\u001b[0m \u001b[0mname\u001b[0m\u001b[0;34m,\u001b[0m \u001b[0mmarks\u001b[0m \u001b[0;32min\u001b[0m \u001b[0mstudents\u001b[0m\u001b[0;34m.\u001b[0m\u001b[0mitems\u001b[0m\u001b[0;34m(\u001b[0m\u001b[0;34m)\u001b[0m\u001b[0;34m}\u001b[0m\u001b[0;34m\u001b[0m\u001b[0;34m\u001b[0m\u001b[0m\n\u001b[0m\u001b[1;32m      9\u001b[0m \u001b[0mmax_student\u001b[0m \u001b[0;34m=\u001b[0m \u001b[0mmax\u001b[0m\u001b[0;34m(\u001b[0m\u001b[0mavg_marks\u001b[0m\u001b[0;34m,\u001b[0m \u001b[0mkey\u001b[0m\u001b[0;34m=\u001b[0m\u001b[0mavg_marks\u001b[0m\u001b[0;34m.\u001b[0m\u001b[0mget\u001b[0m\u001b[0;34m)\u001b[0m\u001b[0;34m\u001b[0m\u001b[0;34m\u001b[0m\u001b[0m\n\u001b[1;32m     10\u001b[0m \u001b[0mmin_student\u001b[0m \u001b[0;34m=\u001b[0m \u001b[0mmin\u001b[0m\u001b[0;34m(\u001b[0m\u001b[0mavg_marks\u001b[0m\u001b[0;34m,\u001b[0m \u001b[0mkey\u001b[0m\u001b[0;34m=\u001b[0m\u001b[0mavg_marks\u001b[0m\u001b[0;34m.\u001b[0m\u001b[0mget\u001b[0m\u001b[0;34m)\u001b[0m\u001b[0;34m\u001b[0m\u001b[0;34m\u001b[0m\u001b[0m\n",
            "\u001b[0;32m<ipython-input-22-1778472203>\u001b[0m in \u001b[0;36m<dictcomp>\u001b[0;34m(.0)\u001b[0m\n\u001b[1;32m      6\u001b[0m }\n\u001b[1;32m      7\u001b[0m \u001b[0;34m\u001b[0m\u001b[0m\n\u001b[0;32m----> 8\u001b[0;31m \u001b[0mavg_marks\u001b[0m \u001b[0;34m=\u001b[0m \u001b[0;34m{\u001b[0m\u001b[0mname\u001b[0m\u001b[0;34m:\u001b[0m \u001b[0msum\u001b[0m\u001b[0;34m(\u001b[0m\u001b[0mmarks\u001b[0m\u001b[0;34m)\u001b[0m\u001b[0;34m/\u001b[0m\u001b[0mlen\u001b[0m\u001b[0;34m(\u001b[0m\u001b[0mmarks\u001b[0m\u001b[0;34m)\u001b[0m \u001b[0;32mfor\u001b[0m \u001b[0mname\u001b[0m\u001b[0;34m,\u001b[0m \u001b[0mmarks\u001b[0m \u001b[0;32min\u001b[0m \u001b[0mstudents\u001b[0m\u001b[0;34m.\u001b[0m\u001b[0mitems\u001b[0m\u001b[0;34m(\u001b[0m\u001b[0;34m)\u001b[0m\u001b[0;34m}\u001b[0m\u001b[0;34m\u001b[0m\u001b[0;34m\u001b[0m\u001b[0m\n\u001b[0m\u001b[1;32m      9\u001b[0m \u001b[0mmax_student\u001b[0m \u001b[0;34m=\u001b[0m \u001b[0mmax\u001b[0m\u001b[0;34m(\u001b[0m\u001b[0mavg_marks\u001b[0m\u001b[0;34m,\u001b[0m \u001b[0mkey\u001b[0m\u001b[0;34m=\u001b[0m\u001b[0mavg_marks\u001b[0m\u001b[0;34m.\u001b[0m\u001b[0mget\u001b[0m\u001b[0;34m)\u001b[0m\u001b[0;34m\u001b[0m\u001b[0;34m\u001b[0m\u001b[0m\n\u001b[1;32m     10\u001b[0m \u001b[0mmin_student\u001b[0m \u001b[0;34m=\u001b[0m \u001b[0mmin\u001b[0m\u001b[0;34m(\u001b[0m\u001b[0mavg_marks\u001b[0m\u001b[0;34m,\u001b[0m \u001b[0mkey\u001b[0m\u001b[0;34m=\u001b[0m\u001b[0mavg_marks\u001b[0m\u001b[0;34m.\u001b[0m\u001b[0mget\u001b[0m\u001b[0;34m)\u001b[0m\u001b[0;34m\u001b[0m\u001b[0;34m\u001b[0m\u001b[0m\n",
            "\u001b[0;31mTypeError\u001b[0m: 'int' object is not callable"
          ]
        }
      ]
    }
  ],
  "metadata": {
    "colab": {
      "provenance": [],
      "include_colab_link": true
    },
    "kernelspec": {
      "display_name": "Python 3",
      "name": "python3"
    }
  },
  "nbformat": 4,
  "nbformat_minor": 0
}